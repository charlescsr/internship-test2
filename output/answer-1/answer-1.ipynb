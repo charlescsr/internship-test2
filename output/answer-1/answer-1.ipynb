{
 "cells": [
  {
   "cell_type": "code",
   "execution_count": 13,
   "metadata": {},
   "outputs": [],
   "source": [
    "import numpy as np\n",
    "import pandas as pd"
   ]
  },
  {
   "cell_type": "code",
   "execution_count": 14,
   "metadata": {},
   "outputs": [
    {
     "data": {
      "text/html": [
       "<div>\n",
       "<style scoped>\n",
       "    .dataframe tbody tr th:only-of-type {\n",
       "        vertical-align: middle;\n",
       "    }\n",
       "\n",
       "    .dataframe tbody tr th {\n",
       "        vertical-align: top;\n",
       "    }\n",
       "\n",
       "    .dataframe thead th {\n",
       "        text-align: right;\n",
       "    }\n",
       "</style>\n",
       "<table border=\"1\" class=\"dataframe\">\n",
       "  <thead>\n",
       "    <tr style=\"text-align: right;\">\n",
       "      <th></th>\n",
       "      <th>product_code</th>\n",
       "      <th>product_description</th>\n",
       "      <th>product_group</th>\n",
       "      <th>sales_date</th>\n",
       "      <th>price</th>\n",
       "      <th>sales_quantity</th>\n",
       "      <th>unit</th>\n",
       "    </tr>\n",
       "  </thead>\n",
       "  <tbody>\n",
       "    <tr>\n",
       "      <th>0</th>\n",
       "      <td>1001</td>\n",
       "      <td>tomato</td>\n",
       "      <td>vegetable</td>\n",
       "      <td>2021-11-01</td>\n",
       "      <td>2.99</td>\n",
       "      <td>36</td>\n",
       "      <td>kg</td>\n",
       "    </tr>\n",
       "    <tr>\n",
       "      <th>1</th>\n",
       "      <td>1001</td>\n",
       "      <td>tomato</td>\n",
       "      <td>vegetable</td>\n",
       "      <td>2021-11-02</td>\n",
       "      <td>2.99</td>\n",
       "      <td>23</td>\n",
       "      <td>kg</td>\n",
       "    </tr>\n",
       "    <tr>\n",
       "      <th>2</th>\n",
       "      <td>1001</td>\n",
       "      <td>tomato</td>\n",
       "      <td>vegetable</td>\n",
       "      <td>2021-11-03</td>\n",
       "      <td>2.99</td>\n",
       "      <td>34</td>\n",
       "      <td>kg</td>\n",
       "    </tr>\n",
       "    <tr>\n",
       "      <th>3</th>\n",
       "      <td>1001</td>\n",
       "      <td>tomato</td>\n",
       "      <td>vegetable</td>\n",
       "      <td>2021-11-04</td>\n",
       "      <td>2.99</td>\n",
       "      <td>23</td>\n",
       "      <td>kg</td>\n",
       "    </tr>\n",
       "    <tr>\n",
       "      <th>4</th>\n",
       "      <td>1001</td>\n",
       "      <td>tomato</td>\n",
       "      <td>vegetable</td>\n",
       "      <td>2021-11-05</td>\n",
       "      <td>2.99</td>\n",
       "      <td>34</td>\n",
       "      <td>kg</td>\n",
       "    </tr>\n",
       "  </tbody>\n",
       "</table>\n",
       "</div>"
      ],
      "text/plain": [
       "   product_code product_description product_group  sales_date  price  \\\n",
       "0          1001              tomato     vegetable  2021-11-01   2.99   \n",
       "1          1001              tomato     vegetable  2021-11-02   2.99   \n",
       "2          1001              tomato     vegetable  2021-11-03   2.99   \n",
       "3          1001              tomato     vegetable  2021-11-04   2.99   \n",
       "4          1001              tomato     vegetable  2021-11-05   2.99   \n",
       "\n",
       "   sales_quantity unit  \n",
       "0              36   kg  \n",
       "1              23   kg  \n",
       "2              34   kg  \n",
       "3              23   kg  \n",
       "4              34   kg  "
      ]
     },
     "execution_count": 14,
     "metadata": {},
     "output_type": "execute_result"
    }
   ],
   "source": [
    "df = pd.read_csv('/home/csr/Documents/internship-test2/input/question-1/main.csv')\n",
    "df.head()"
   ]
  },
  {
   "cell_type": "markdown",
   "metadata": {},
   "source": [
    "The price column contains some missing values. How can we replace these missing values with the average price of the product? Please note that we should not fill the missing values with the average value of the price column. The missing values for apples need to be filled with the average price of apples, and so on."
   ]
  },
  {
   "cell_type": "code",
   "execution_count": 15,
   "metadata": {},
   "outputs": [
    {
     "data": {
      "text/plain": [
       "tomato         30\n",
       "cucumber       30\n",
       "onion          30\n",
       "plum           30\n",
       "orange         30\n",
       "apple          30\n",
       "grape          30\n",
       "milk-1.5       30\n",
       "yogurt-1       30\n",
       "butter-0.25    30\n",
       "Name: product_description, dtype: int64"
      ]
     },
     "execution_count": 15,
     "metadata": {},
     "output_type": "execute_result"
    }
   ],
   "source": [
    "df['product_description'].value_counts()"
   ]
  },
  {
   "cell_type": "code",
   "execution_count": 16,
   "metadata": {},
   "outputs": [
    {
     "data": {
      "text/html": [
       "<div>\n",
       "<style scoped>\n",
       "    .dataframe tbody tr th:only-of-type {\n",
       "        vertical-align: middle;\n",
       "    }\n",
       "\n",
       "    .dataframe tbody tr th {\n",
       "        vertical-align: top;\n",
       "    }\n",
       "\n",
       "    .dataframe thead th {\n",
       "        text-align: right;\n",
       "    }\n",
       "</style>\n",
       "<table border=\"1\" class=\"dataframe\">\n",
       "  <thead>\n",
       "    <tr style=\"text-align: right;\">\n",
       "      <th></th>\n",
       "      <th>product_code</th>\n",
       "      <th>product_description</th>\n",
       "      <th>product_group</th>\n",
       "      <th>sales_date</th>\n",
       "      <th>price</th>\n",
       "      <th>sales_quantity</th>\n",
       "      <th>unit</th>\n",
       "      <th>price_new</th>\n",
       "    </tr>\n",
       "  </thead>\n",
       "  <tbody>\n",
       "    <tr>\n",
       "      <th>0</th>\n",
       "      <td>1001</td>\n",
       "      <td>tomato</td>\n",
       "      <td>vegetable</td>\n",
       "      <td>2021-11-01</td>\n",
       "      <td>2.99</td>\n",
       "      <td>36</td>\n",
       "      <td>kg</td>\n",
       "      <td>3.121034</td>\n",
       "    </tr>\n",
       "    <tr>\n",
       "      <th>1</th>\n",
       "      <td>1001</td>\n",
       "      <td>tomato</td>\n",
       "      <td>vegetable</td>\n",
       "      <td>2021-11-02</td>\n",
       "      <td>2.99</td>\n",
       "      <td>23</td>\n",
       "      <td>kg</td>\n",
       "      <td>3.121034</td>\n",
       "    </tr>\n",
       "    <tr>\n",
       "      <th>2</th>\n",
       "      <td>1001</td>\n",
       "      <td>tomato</td>\n",
       "      <td>vegetable</td>\n",
       "      <td>2021-11-03</td>\n",
       "      <td>2.99</td>\n",
       "      <td>34</td>\n",
       "      <td>kg</td>\n",
       "      <td>3.121034</td>\n",
       "    </tr>\n",
       "    <tr>\n",
       "      <th>3</th>\n",
       "      <td>1001</td>\n",
       "      <td>tomato</td>\n",
       "      <td>vegetable</td>\n",
       "      <td>2021-11-04</td>\n",
       "      <td>2.99</td>\n",
       "      <td>23</td>\n",
       "      <td>kg</td>\n",
       "      <td>3.121034</td>\n",
       "    </tr>\n",
       "    <tr>\n",
       "      <th>4</th>\n",
       "      <td>1001</td>\n",
       "      <td>tomato</td>\n",
       "      <td>vegetable</td>\n",
       "      <td>2021-11-05</td>\n",
       "      <td>2.99</td>\n",
       "      <td>34</td>\n",
       "      <td>kg</td>\n",
       "      <td>3.121034</td>\n",
       "    </tr>\n",
       "  </tbody>\n",
       "</table>\n",
       "</div>"
      ],
      "text/plain": [
       "   product_code product_description product_group  sales_date  price  \\\n",
       "0          1001              tomato     vegetable  2021-11-01   2.99   \n",
       "1          1001              tomato     vegetable  2021-11-02   2.99   \n",
       "2          1001              tomato     vegetable  2021-11-03   2.99   \n",
       "3          1001              tomato     vegetable  2021-11-04   2.99   \n",
       "4          1001              tomato     vegetable  2021-11-05   2.99   \n",
       "\n",
       "   sales_quantity unit  price_new  \n",
       "0              36   kg   3.121034  \n",
       "1              23   kg   3.121034  \n",
       "2              34   kg   3.121034  \n",
       "3              23   kg   3.121034  \n",
       "4              34   kg   3.121034  "
      ]
     },
     "execution_count": 16,
     "metadata": {},
     "output_type": "execute_result"
    }
   ],
   "source": [
    "df['price_new'] = df.groupby('product_description')['price'].transform('mean')\n",
    "df['price_new'].fillna(0, inplace=True)\n",
    "\n",
    "df.head()"
   ]
  },
  {
   "cell_type": "code",
   "execution_count": 17,
   "metadata": {},
   "outputs": [
    {
     "data": {
      "text/plain": [
       "0"
      ]
     },
     "execution_count": 17,
     "metadata": {},
     "output_type": "execute_result"
    }
   ],
   "source": [
    "df['price_new'].isnull().sum()"
   ]
  },
  {
   "cell_type": "code",
   "execution_count": 18,
   "metadata": {},
   "outputs": [],
   "source": [
    "df.to_csv('main.csv', index=False)"
   ]
  }
 ],
 "metadata": {
  "interpreter": {
   "hash": "22b18b72038ef0cc4da64a6111d5dbf15d6e2ec8ca6829fc4f505e20bee8c60a"
  },
  "kernelspec": {
   "display_name": "Python 3.9.12 ('intern')",
   "language": "python",
   "name": "python3"
  },
  "language_info": {
   "codemirror_mode": {
    "name": "ipython",
    "version": 3
   },
   "file_extension": ".py",
   "mimetype": "text/x-python",
   "name": "python",
   "nbconvert_exporter": "python",
   "pygments_lexer": "ipython3",
   "version": "3.9.12"
  },
  "orig_nbformat": 4
 },
 "nbformat": 4,
 "nbformat_minor": 2
}
