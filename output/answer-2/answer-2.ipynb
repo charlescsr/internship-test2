{
 "cells": [
  {
   "cell_type": "code",
   "execution_count": 2,
   "metadata": {},
   "outputs": [],
   "source": [
    "import numpy as np\n",
    "import pandas as pd"
   ]
  },
  {
   "cell_type": "code",
   "execution_count": 3,
   "metadata": {},
   "outputs": [
    {
     "data": {
      "text/html": [
       "<div>\n",
       "<style scoped>\n",
       "    .dataframe tbody tr th:only-of-type {\n",
       "        vertical-align: middle;\n",
       "    }\n",
       "\n",
       "    .dataframe tbody tr th {\n",
       "        vertical-align: top;\n",
       "    }\n",
       "\n",
       "    .dataframe thead th {\n",
       "        text-align: right;\n",
       "    }\n",
       "</style>\n",
       "<table border=\"1\" class=\"dataframe\">\n",
       "  <thead>\n",
       "    <tr style=\"text-align: right;\">\n",
       "      <th></th>\n",
       "      <th>product_code</th>\n",
       "      <th>product_description</th>\n",
       "      <th>product_group</th>\n",
       "      <th>sales_date</th>\n",
       "      <th>price</th>\n",
       "      <th>sales_quantity</th>\n",
       "      <th>unit</th>\n",
       "    </tr>\n",
       "  </thead>\n",
       "  <tbody>\n",
       "    <tr>\n",
       "      <th>0</th>\n",
       "      <td>1001</td>\n",
       "      <td>tomato</td>\n",
       "      <td>vegetable</td>\n",
       "      <td>2021-11-01</td>\n",
       "      <td>2.99</td>\n",
       "      <td>36</td>\n",
       "      <td>kg</td>\n",
       "    </tr>\n",
       "    <tr>\n",
       "      <th>1</th>\n",
       "      <td>1001</td>\n",
       "      <td>tomato</td>\n",
       "      <td>vegetable</td>\n",
       "      <td>2021-11-02</td>\n",
       "      <td>2.99</td>\n",
       "      <td>23</td>\n",
       "      <td>kg</td>\n",
       "    </tr>\n",
       "    <tr>\n",
       "      <th>2</th>\n",
       "      <td>1001</td>\n",
       "      <td>tomato</td>\n",
       "      <td>vegetable</td>\n",
       "      <td>2021-11-03</td>\n",
       "      <td>2.99</td>\n",
       "      <td>34</td>\n",
       "      <td>kg</td>\n",
       "    </tr>\n",
       "    <tr>\n",
       "      <th>3</th>\n",
       "      <td>1001</td>\n",
       "      <td>tomato</td>\n",
       "      <td>vegetable</td>\n",
       "      <td>2021-11-04</td>\n",
       "      <td>2.99</td>\n",
       "      <td>23</td>\n",
       "      <td>kg</td>\n",
       "    </tr>\n",
       "    <tr>\n",
       "      <th>4</th>\n",
       "      <td>1001</td>\n",
       "      <td>tomato</td>\n",
       "      <td>vegetable</td>\n",
       "      <td>2021-11-05</td>\n",
       "      <td>2.99</td>\n",
       "      <td>34</td>\n",
       "      <td>kg</td>\n",
       "    </tr>\n",
       "  </tbody>\n",
       "</table>\n",
       "</div>"
      ],
      "text/plain": [
       "   product_code product_description product_group  sales_date  price  \\\n",
       "0          1001              tomato     vegetable  2021-11-01   2.99   \n",
       "1          1001              tomato     vegetable  2021-11-02   2.99   \n",
       "2          1001              tomato     vegetable  2021-11-03   2.99   \n",
       "3          1001              tomato     vegetable  2021-11-04   2.99   \n",
       "4          1001              tomato     vegetable  2021-11-05   2.99   \n",
       "\n",
       "   sales_quantity unit  \n",
       "0              36   kg  \n",
       "1              23   kg  \n",
       "2              34   kg  \n",
       "3              23   kg  \n",
       "4              34   kg  "
      ]
     },
     "execution_count": 3,
     "metadata": {},
     "output_type": "execute_result"
    }
   ],
   "source": [
    "df = pd.read_csv('/home/csr/Documents/internship-test2/input/question-2/main.csv')\n",
    "df.head()"
   ]
  },
  {
   "cell_type": "markdown",
   "metadata": {},
   "source": [
    "How can we create a sales amount column that shows how much product in kg is sold in each sale.\n",
    "The unit for some products is kg so we can just take the value in the sales quantity column for them. However, some of the products are sold in pieces. The weight information for these products can be extracted from the description."
   ]
  },
  {
   "cell_type": "code",
   "execution_count": 4,
   "metadata": {},
   "outputs": [
    {
     "data": {
      "text/plain": [
       "tomato         30\n",
       "cucumber       30\n",
       "onion          30\n",
       "plum           30\n",
       "orange         30\n",
       "apple          30\n",
       "grape          30\n",
       "milk-1.5       30\n",
       "yogurt-1       30\n",
       "butter-0.25    30\n",
       "Name: product_description, dtype: int64"
      ]
     },
     "execution_count": 4,
     "metadata": {},
     "output_type": "execute_result"
    }
   ],
   "source": [
    "df['product_description'].value_counts()"
   ]
  },
  {
   "cell_type": "code",
   "execution_count": 5,
   "metadata": {},
   "outputs": [
    {
     "data": {
      "text/plain": [
       "kg     210\n",
       "pcs     90\n",
       "Name: unit, dtype: int64"
      ]
     },
     "execution_count": 5,
     "metadata": {},
     "output_type": "execute_result"
    }
   ],
   "source": [
    "df['unit'].value_counts()"
   ]
  },
  {
   "cell_type": "code",
   "execution_count": 27,
   "metadata": {},
   "outputs": [
    {
     "data": {
      "text/html": [
       "<div>\n",
       "<style scoped>\n",
       "    .dataframe tbody tr th:only-of-type {\n",
       "        vertical-align: middle;\n",
       "    }\n",
       "\n",
       "    .dataframe tbody tr th {\n",
       "        vertical-align: top;\n",
       "    }\n",
       "\n",
       "    .dataframe thead th {\n",
       "        text-align: right;\n",
       "    }\n",
       "</style>\n",
       "<table border=\"1\" class=\"dataframe\">\n",
       "  <thead>\n",
       "    <tr style=\"text-align: right;\">\n",
       "      <th></th>\n",
       "      <th>product_code</th>\n",
       "      <th>product_description</th>\n",
       "      <th>product_group</th>\n",
       "      <th>sales_date</th>\n",
       "      <th>price</th>\n",
       "      <th>sales_quantity</th>\n",
       "      <th>unit</th>\n",
       "      <th>sales_amount</th>\n",
       "    </tr>\n",
       "  </thead>\n",
       "  <tbody>\n",
       "    <tr>\n",
       "      <th>0</th>\n",
       "      <td>1001</td>\n",
       "      <td>tomato</td>\n",
       "      <td>vegetable</td>\n",
       "      <td>2021-11-01</td>\n",
       "      <td>2.99</td>\n",
       "      <td>36</td>\n",
       "      <td>kg</td>\n",
       "      <td>107.64</td>\n",
       "    </tr>\n",
       "    <tr>\n",
       "      <th>1</th>\n",
       "      <td>1001</td>\n",
       "      <td>tomato</td>\n",
       "      <td>vegetable</td>\n",
       "      <td>2021-11-02</td>\n",
       "      <td>2.99</td>\n",
       "      <td>23</td>\n",
       "      <td>kg</td>\n",
       "      <td>68.77</td>\n",
       "    </tr>\n",
       "    <tr>\n",
       "      <th>2</th>\n",
       "      <td>1001</td>\n",
       "      <td>tomato</td>\n",
       "      <td>vegetable</td>\n",
       "      <td>2021-11-03</td>\n",
       "      <td>2.99</td>\n",
       "      <td>34</td>\n",
       "      <td>kg</td>\n",
       "      <td>101.66</td>\n",
       "    </tr>\n",
       "    <tr>\n",
       "      <th>3</th>\n",
       "      <td>1001</td>\n",
       "      <td>tomato</td>\n",
       "      <td>vegetable</td>\n",
       "      <td>2021-11-04</td>\n",
       "      <td>2.99</td>\n",
       "      <td>23</td>\n",
       "      <td>kg</td>\n",
       "      <td>68.77</td>\n",
       "    </tr>\n",
       "    <tr>\n",
       "      <th>4</th>\n",
       "      <td>1001</td>\n",
       "      <td>tomato</td>\n",
       "      <td>vegetable</td>\n",
       "      <td>2021-11-05</td>\n",
       "      <td>2.99</td>\n",
       "      <td>34</td>\n",
       "      <td>kg</td>\n",
       "      <td>101.66</td>\n",
       "    </tr>\n",
       "  </tbody>\n",
       "</table>\n",
       "</div>"
      ],
      "text/plain": [
       "   product_code product_description product_group  sales_date  price  \\\n",
       "0          1001              tomato     vegetable  2021-11-01   2.99   \n",
       "1          1001              tomato     vegetable  2021-11-02   2.99   \n",
       "2          1001              tomato     vegetable  2021-11-03   2.99   \n",
       "3          1001              tomato     vegetable  2021-11-04   2.99   \n",
       "4          1001              tomato     vegetable  2021-11-05   2.99   \n",
       "\n",
       "   sales_quantity unit  sales_amount  \n",
       "0              36   kg        107.64  \n",
       "1              23   kg         68.77  \n",
       "2              34   kg        101.66  \n",
       "3              23   kg         68.77  \n",
       "4              34   kg        101.66  "
      ]
     },
     "execution_count": 27,
     "metadata": {},
     "output_type": "execute_result"
    }
   ],
   "source": [
    "def convert_to_kg(row):\n",
    "    if row['product_description'] == 'milk-1.5':\n",
    "        return row['sales_quantity'] * 1.5\n",
    "    elif row['product_description'] == 'yogurt-1':\n",
    "        return row['sales_quantity'] * 1\n",
    "    elif row['product_description'] == 'butter-0.25':\n",
    "        return row['sales_quantity'] * 0.25\n",
    "    else:\n",
    "        return row['sales_quantity']\n",
    "\n",
    "df['sales_quant_new'] = df.apply(convert_to_kg, axis=1)\n",
    "\n",
    "df['sales_amount'] = df['price'] * df['sales_quant_new']\n",
    "\n",
    "df.drop(columns=['sales_quant_new'], inplace=True)\n",
    "\n",
    "df.head()"
   ]
  },
  {
   "cell_type": "code",
   "execution_count": 28,
   "metadata": {},
   "outputs": [],
   "source": [
    "df.to_csv('main.csv', index=False)"
   ]
  }
 ],
 "metadata": {
  "interpreter": {
   "hash": "22b18b72038ef0cc4da64a6111d5dbf15d6e2ec8ca6829fc4f505e20bee8c60a"
  },
  "kernelspec": {
   "display_name": "Python 3.9.12 ('intern')",
   "language": "python",
   "name": "python3"
  },
  "language_info": {
   "codemirror_mode": {
    "name": "ipython",
    "version": 3
   },
   "file_extension": ".py",
   "mimetype": "text/x-python",
   "name": "python",
   "nbconvert_exporter": "python",
   "pygments_lexer": "ipython3",
   "version": "3.9.12"
  },
  "orig_nbformat": 4
 },
 "nbformat": 4,
 "nbformat_minor": 2
}
